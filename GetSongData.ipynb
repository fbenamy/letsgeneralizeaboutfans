{
 "cells": [
  {
   "cell_type": "markdown",
   "metadata": {},
   "source": [
    "# Setup \n",
    "I used spotipy to access the Spotify API, my api tokens are privately stored in config.py. "
   ]
  },
  {
   "cell_type": "code",
   "execution_count": 1,
   "metadata": {},
   "outputs": [],
   "source": [
    "import pandas as pd\n",
    "import spotipy\n",
    "from spotipy.oauth2 import SpotifyClientCredentials\n",
    "from config import spotify_client_id, spotify_client_secret"
   ]
  },
  {
   "cell_type": "markdown",
   "metadata": {},
   "source": [
    "Create connection to spotify api. "
   ]
  },
  {
   "cell_type": "code",
   "execution_count": 2,
   "metadata": {},
   "outputs": [],
   "source": [
    "client_credentials_manager = SpotifyClientCredentials(client_id = spotify_client_id, client_secret = spotify_client_secret)\n",
    "sp = spotipy.Spotify(client_credentials_manager = client_credentials_manager)"
   ]
  },
  {
   "cell_type": "markdown",
   "metadata": {},
   "source": [
    "# Get Tracks \n",
    "Crazy Ex-Girlfriend has 4 seasons worth of tracks. Thankfully, the good people of the show have put all the tracks in a Spotify playlist: \"Crazy Ex-girlfriend: The Complete Collection\" "
   ]
  },
  {
   "cell_type": "code",
   "execution_count": 4,
   "metadata": {},
   "outputs": [],
   "source": [
    "#uri token for the playlist\n",
    "playlist_URI = \"spotify:playlist:5lJ50jaxfkNEDkCQFKsABt\" \n",
    "#uri token for the user who created the playlist:\n",
    "user_URI = \"spotify:user:crazyexgirlfriend_official\"\n",
    "\n",
    "#get track information for all the tracks in the playlist\n",
    "tracks1 = sp.user_playlist_tracks(user_URI, playlist_URI, limit = 100)   \n",
    "tracks2 = sp.user_playlist_tracks(user_URI, playlist_URI, limit = 100, offset = 99)\n",
    "\n",
    "#collect track uri's in a list\n",
    "track_uri_list = []\n",
    "for i in range(len(tracks1[\"items\"])):\n",
    "   track_uri_list.append(tracks1[\"items\"][i]['track']['uri'])\n",
    "for i in range(len(tracks2[\"items\"])):\n",
    "    track_uri_list.append(tracks2[\"items\"][i]['track']['uri'])"
   ]
  },
  {
   "cell_type": "markdown",
   "metadata": {},
   "source": [
    "# Create Dataframe to Hold Track Level Information"
   ]
  },
  {
   "cell_type": "code",
   "execution_count": 6,
   "metadata": {},
   "outputs": [],
   "source": [
    "#column names\n",
    "track_columns = ['name','track_uri','explicit', 'duration_ms', 'track_number', 'popularity',\n",
    "                 'key', 'mode', 'time_signature', 'acousticness', 'danceability', 'energy', 'instrumentalness',\n",
    "                 'liveness', 'loudness', 'speechiness', 'valence', 'tempo', 'season', 'artists']\n",
    "#initialize dataframe\n",
    "df_tracks = pd.DataFrame(columns = track_columns)"
   ]
  },
  {
   "cell_type": "code",
   "execution_count": 11,
   "metadata": {},
   "outputs": [],
   "source": [
    "#extract information for each track \n",
    "for i in range(len(track_uri_list)):\n",
    "    #initialize temporary dataframe to hold track information \n",
    "    df_tracks_temp = pd.DataFrame(columns = track_columns) \n",
    "    #get track info\n",
    "    track_info = sp.track(track_uri_list[i])\n",
    "    #get audio features\n",
    "    audio_features = sp.audio_features(track_uri_list[i])\n",
    "    #extract and store track info\n",
    "    df_tracks_temp= pd.DataFrame(columns = track_columns)\n",
    "    df_tracks_temp.loc[i, 'name'] = track_info['name']\n",
    "    df_tracks_temp.loc[i,'track_uri'] = track_info['uri']\n",
    "    df_tracks_temp.loc[i,'explicit'] = track_info['explicit']\n",
    "    df_tracks_temp.loc[i,'duration_ms'] = track_info['duration_ms']\n",
    "    df_tracks_temp.loc[i,'explicit'] = track_info['explicit'] \n",
    "    df_tracks_temp.loc[i,'popularity'] = track_info['popularity']\n",
    "    df_tracks_temp.loc[i,'track_number'] = track_info['track_number'] \n",
    "\n",
    "    #extract and store audio feature info\n",
    "    df_tracks_temp.loc[i,'key'] = float(audio_features[0]['key'])\n",
    "    df_tracks_temp.loc[i,'mode'] = float(audio_features[0]['mode'])\n",
    "    df_tracks_temp.loc[i,'time_signature'] = audio_features[0]['time_signature']\n",
    "    df_tracks_temp.loc[i,'acousticness'] = float(audio_features[0]['acousticness'])\n",
    "    df_tracks_temp.loc[i,'danceability'] = float(audio_features[0]['danceability'])\n",
    "    df_tracks_temp.loc[i,'energy'] = float(audio_features[0]['energy'])\n",
    "    df_tracks_temp.loc[i,'instrumentalness'] = float(audio_features[0]['instrumentalness'])\n",
    "    df_tracks_temp.loc[i,'liveness'] = float(audio_features[0]['liveness'])\n",
    "    df_tracks_temp.loc[i,'loudness'] = float(audio_features[0]['loudness'])\n",
    "    df_tracks_temp.loc[i,'speechiness'] = float(audio_features[0]['speechiness'])\n",
    "    df_tracks_temp.loc[i,'valence'] = float(audio_features[0]['valence'])\n",
    "    df_tracks_temp.loc[i,'tempo'] = float(audio_features[0]['tempo'])\n",
    "    \n",
    "    #determine and store what season track is from\n",
    "    if \"Season 1\" in track_info['album']['name']:\n",
    "        df_tracks_temp.loc[i, \"season\"] = \"Season 1\"\n",
    "    elif \"Season 2\" in track_info['album']['name']:\n",
    "        df_tracks_temp.loc[i, \"season\"] = \"Season 2\"\n",
    "    elif \"Season 3\" in track_info['album']['name']:\n",
    "        df_tracks_temp.loc[i, \"season\"] = \"Season 3\"\n",
    "    elif \"Season 4\" in track_info['album']['name']:\n",
    "        df_tracks_temp.loc[i, \"season\"] = \"Season 4\"\n",
    "    else:\n",
    "        df_tracks_temp.loc[i, \"season\"] = \"Season 3\"\n",
    "    \n",
    "    #initialize empty list to store artists\n",
    "    artists  = []\n",
    "    #find and store the names of artist on all tracks\n",
    "    for j in range(len(track_info['artists'])):\n",
    "        artists.append(track_info['artists'][j]['name'])\n",
    "    #store array of artists    \n",
    "    df_tracks_temp.loc[i, \"artists\"] = artists\n",
    "    \n",
    "    #append temporary dataframe to larger track dataframe\n",
    "    df_tracks = pd.concat([df_tracks, df_tracks_temp])\n",
    "    "
   ]
  },
  {
   "cell_type": "code",
   "execution_count": 22,
   "metadata": {},
   "outputs": [],
   "source": [
    "#remove demos and tracks\n",
    "df_tracks = df_tracks[~df_tracks['name'].str.contains(\"demo\" , case = False)]\n",
    "\n",
    "#remove duplicate tracks \n",
    "df_tracks = df_tracks.drop_duplicates(subset = \"name\", keep = \"last\")"
   ]
  },
  {
   "cell_type": "markdown",
   "metadata": {},
   "source": [
    "157 songs were written for the show, So I had to hand clean some of the rows. I am added the links to embedded youtube videos and used that to check. "
   ]
  },
  {
   "cell_type": "code",
   "execution_count": 23,
   "metadata": {},
   "outputs": [
    {
     "data": {
      "text/plain": [
       "160"
      ]
     },
     "execution_count": 23,
     "metadata": {},
     "output_type": "execute_result"
    }
   ],
   "source": [
    "len(df_tracks)"
   ]
  },
  {
   "cell_type": "code",
   "execution_count": 24,
   "metadata": {},
   "outputs": [],
   "source": [
    "df_tracks.to_csv(\"track_info.csv\")"
   ]
  }
 ],
 "metadata": {
  "kernelspec": {
   "display_name": "Python 3",
   "language": "python",
   "name": "python3"
  },
  "language_info": {
   "codemirror_mode": {
    "name": "ipython",
    "version": 3
   },
   "file_extension": ".py",
   "mimetype": "text/x-python",
   "name": "python",
   "nbconvert_exporter": "python",
   "pygments_lexer": "ipython3",
   "version": "3.7.1"
  }
 },
 "nbformat": 4,
 "nbformat_minor": 2
}
